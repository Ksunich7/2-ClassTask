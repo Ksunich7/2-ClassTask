{
 "cells": [
  {
   "cell_type": "markdown",
   "metadata": {},
   "source": [
    "## Маленькое задание по классификации"
   ]
  },
  {
   "cell_type": "code",
   "execution_count": 1,
   "metadata": {},
   "outputs": [],
   "source": [
    "import pandas as pd\n",
    "import numpy as np\n",
    "import sklearn\n",
    "from sklearn.model_selection import train_test_split\n",
    "from sklearn.naive_bayes import GaussianNB\n",
    "from sklearn.metrics import accuracy_score"
   ]
  },
  {
   "cell_type": "code",
   "execution_count": 2,
   "metadata": {},
   "outputs": [],
   "source": [
    "data = pd.read_csv('wines_classification_1.csv')"
   ]
  },
  {
   "cell_type": "code",
   "execution_count": 3,
   "metadata": {},
   "outputs": [
    {
     "data": {
      "text/html": [
       "<div>\n",
       "<style scoped>\n",
       "    .dataframe tbody tr th:only-of-type {\n",
       "        vertical-align: middle;\n",
       "    }\n",
       "\n",
       "    .dataframe tbody tr th {\n",
       "        vertical-align: top;\n",
       "    }\n",
       "\n",
       "    .dataframe thead th {\n",
       "        text-align: right;\n",
       "    }\n",
       "</style>\n",
       "<table border=\"1\" class=\"dataframe\">\n",
       "  <thead>\n",
       "    <tr style=\"text-align: right;\">\n",
       "      <th></th>\n",
       "      <th>fixed acidity</th>\n",
       "      <th>volatile acidity</th>\n",
       "      <th>citric acid</th>\n",
       "      <th>residual sugar</th>\n",
       "      <th>chlorides</th>\n",
       "      <th>free sulfur dioxide</th>\n",
       "      <th>total sulfur dioxide</th>\n",
       "      <th>density</th>\n",
       "      <th>pH</th>\n",
       "      <th>sulphates</th>\n",
       "      <th>alcohol</th>\n",
       "      <th>quality</th>\n",
       "    </tr>\n",
       "  </thead>\n",
       "  <tbody>\n",
       "    <tr>\n",
       "      <th>count</th>\n",
       "      <td>40.000000</td>\n",
       "      <td>40.00000</td>\n",
       "      <td>40.000000</td>\n",
       "      <td>40.000000</td>\n",
       "      <td>40.000000</td>\n",
       "      <td>40.000000</td>\n",
       "      <td>40.000000</td>\n",
       "      <td>40.000000</td>\n",
       "      <td>40.000000</td>\n",
       "      <td>40.000000</td>\n",
       "      <td>40.000000</td>\n",
       "      <td>40.000000</td>\n",
       "    </tr>\n",
       "    <tr>\n",
       "      <th>mean</th>\n",
       "      <td>7.747500</td>\n",
       "      <td>0.42550</td>\n",
       "      <td>0.334750</td>\n",
       "      <td>4.980000</td>\n",
       "      <td>0.069800</td>\n",
       "      <td>25.625000</td>\n",
       "      <td>93.450000</td>\n",
       "      <td>0.995595</td>\n",
       "      <td>3.245000</td>\n",
       "      <td>0.587500</td>\n",
       "      <td>10.587500</td>\n",
       "      <td>5.800000</td>\n",
       "    </tr>\n",
       "    <tr>\n",
       "      <th>std</th>\n",
       "      <td>1.448073</td>\n",
       "      <td>0.18194</td>\n",
       "      <td>0.173086</td>\n",
       "      <td>4.166884</td>\n",
       "      <td>0.038903</td>\n",
       "      <td>15.156766</td>\n",
       "      <td>63.581141</td>\n",
       "      <td>0.002658</td>\n",
       "      <td>0.154638</td>\n",
       "      <td>0.147296</td>\n",
       "      <td>1.223737</td>\n",
       "      <td>0.790975</td>\n",
       "    </tr>\n",
       "    <tr>\n",
       "      <th>min</th>\n",
       "      <td>6.100000</td>\n",
       "      <td>0.17000</td>\n",
       "      <td>0.000000</td>\n",
       "      <td>1.400000</td>\n",
       "      <td>0.021000</td>\n",
       "      <td>4.000000</td>\n",
       "      <td>8.000000</td>\n",
       "      <td>0.988220</td>\n",
       "      <td>2.920000</td>\n",
       "      <td>0.380000</td>\n",
       "      <td>9.100000</td>\n",
       "      <td>4.000000</td>\n",
       "    </tr>\n",
       "    <tr>\n",
       "      <th>25%</th>\n",
       "      <td>6.775000</td>\n",
       "      <td>0.29250</td>\n",
       "      <td>0.257500</td>\n",
       "      <td>2.175000</td>\n",
       "      <td>0.048250</td>\n",
       "      <td>14.500000</td>\n",
       "      <td>37.750000</td>\n",
       "      <td>0.995045</td>\n",
       "      <td>3.130000</td>\n",
       "      <td>0.495000</td>\n",
       "      <td>9.500000</td>\n",
       "      <td>5.000000</td>\n",
       "    </tr>\n",
       "    <tr>\n",
       "      <th>50%</th>\n",
       "      <td>7.450000</td>\n",
       "      <td>0.39500</td>\n",
       "      <td>0.325000</td>\n",
       "      <td>2.875000</td>\n",
       "      <td>0.064000</td>\n",
       "      <td>23.500000</td>\n",
       "      <td>87.000000</td>\n",
       "      <td>0.996200</td>\n",
       "      <td>3.220000</td>\n",
       "      <td>0.580000</td>\n",
       "      <td>10.500000</td>\n",
       "      <td>6.000000</td>\n",
       "    </tr>\n",
       "    <tr>\n",
       "      <th>75%</th>\n",
       "      <td>7.900000</td>\n",
       "      <td>0.50000</td>\n",
       "      <td>0.400000</td>\n",
       "      <td>6.512500</td>\n",
       "      <td>0.082250</td>\n",
       "      <td>32.750000</td>\n",
       "      <td>141.000000</td>\n",
       "      <td>0.997315</td>\n",
       "      <td>3.355000</td>\n",
       "      <td>0.662500</td>\n",
       "      <td>11.025000</td>\n",
       "      <td>6.000000</td>\n",
       "    </tr>\n",
       "    <tr>\n",
       "      <th>max</th>\n",
       "      <td>12.000000</td>\n",
       "      <td>0.91500</td>\n",
       "      <td>1.000000</td>\n",
       "      <td>19.950000</td>\n",
       "      <td>0.250000</td>\n",
       "      <td>64.000000</td>\n",
       "      <td>227.000000</td>\n",
       "      <td>0.999600</td>\n",
       "      <td>3.570000</td>\n",
       "      <td>1.060000</td>\n",
       "      <td>13.600000</td>\n",
       "      <td>8.000000</td>\n",
       "    </tr>\n",
       "  </tbody>\n",
       "</table>\n",
       "</div>"
      ],
      "text/plain": [
       "       fixed acidity  volatile acidity  citric acid  residual sugar  \\\n",
       "count      40.000000          40.00000    40.000000       40.000000   \n",
       "mean        7.747500           0.42550     0.334750        4.980000   \n",
       "std         1.448073           0.18194     0.173086        4.166884   \n",
       "min         6.100000           0.17000     0.000000        1.400000   \n",
       "25%         6.775000           0.29250     0.257500        2.175000   \n",
       "50%         7.450000           0.39500     0.325000        2.875000   \n",
       "75%         7.900000           0.50000     0.400000        6.512500   \n",
       "max        12.000000           0.91500     1.000000       19.950000   \n",
       "\n",
       "       chlorides  free sulfur dioxide  total sulfur dioxide    density  \\\n",
       "count  40.000000            40.000000             40.000000  40.000000   \n",
       "mean    0.069800            25.625000             93.450000   0.995595   \n",
       "std     0.038903            15.156766             63.581141   0.002658   \n",
       "min     0.021000             4.000000              8.000000   0.988220   \n",
       "25%     0.048250            14.500000             37.750000   0.995045   \n",
       "50%     0.064000            23.500000             87.000000   0.996200   \n",
       "75%     0.082250            32.750000            141.000000   0.997315   \n",
       "max     0.250000            64.000000            227.000000   0.999600   \n",
       "\n",
       "              pH  sulphates    alcohol    quality  \n",
       "count  40.000000  40.000000  40.000000  40.000000  \n",
       "mean    3.245000   0.587500  10.587500   5.800000  \n",
       "std     0.154638   0.147296   1.223737   0.790975  \n",
       "min     2.920000   0.380000   9.100000   4.000000  \n",
       "25%     3.130000   0.495000   9.500000   5.000000  \n",
       "50%     3.220000   0.580000  10.500000   6.000000  \n",
       "75%     3.355000   0.662500  11.025000   6.000000  \n",
       "max     3.570000   1.060000  13.600000   8.000000  "
      ]
     },
     "execution_count": 3,
     "metadata": {},
     "output_type": "execute_result"
    }
   ],
   "source": [
    "data.describe()"
   ]
  },
  {
   "cell_type": "markdown",
   "metadata": {},
   "source": [
    "Данные - уже знакомый набор данных о химическом составе испанских и португальских вин. \n",
    "В задаче классификации предстоит построить модель, которая будет по химическому составу отличать красные вина от белых."
   ]
  },
  {
   "cell_type": "markdown",
   "metadata": {},
   "source": [
    "В данные добавлен столбец color, который принимает значения red или white в зависимости от того, что это за вино."
   ]
  },
  {
   "cell_type": "code",
   "execution_count": 4,
   "metadata": {},
   "outputs": [
    {
     "data": {
      "text/plain": [
       "red      21\n",
       "white    19\n",
       "Name: color, dtype: int64"
      ]
     },
     "execution_count": 4,
     "metadata": {},
     "output_type": "execute_result"
    }
   ],
   "source": [
    "data.color.value_counts()"
   ]
  },
  {
   "cell_type": "code",
   "execution_count": 5,
   "metadata": {},
   "outputs": [
    {
     "data": {
      "text/plain": [
       "Index(['fixed acidity', 'volatile acidity', 'citric acid', 'residual sugar',\n",
       "       'chlorides', 'free sulfur dioxide', 'total sulfur dioxide', 'density',\n",
       "       'pH', 'sulphates', 'alcohol', 'quality', 'color'],\n",
       "      dtype='object')"
      ]
     },
     "execution_count": 5,
     "metadata": {},
     "output_type": "execute_result"
    }
   ],
   "source": [
    "data.columns"
   ]
  },
  {
   "cell_type": "code",
   "execution_count": 6,
   "metadata": {},
   "outputs": [
    {
     "data": {
      "text/html": [
       "<div>\n",
       "<style scoped>\n",
       "    .dataframe tbody tr th:only-of-type {\n",
       "        vertical-align: middle;\n",
       "    }\n",
       "\n",
       "    .dataframe tbody tr th {\n",
       "        vertical-align: top;\n",
       "    }\n",
       "\n",
       "    .dataframe thead th {\n",
       "        text-align: right;\n",
       "    }\n",
       "</style>\n",
       "<table border=\"1\" class=\"dataframe\">\n",
       "  <thead>\n",
       "    <tr style=\"text-align: right;\">\n",
       "      <th></th>\n",
       "      <th>fixed acidity</th>\n",
       "      <th>volatile acidity</th>\n",
       "      <th>citric acid</th>\n",
       "      <th>residual sugar</th>\n",
       "      <th>chlorides</th>\n",
       "      <th>free sulfur dioxide</th>\n",
       "      <th>total sulfur dioxide</th>\n",
       "      <th>density</th>\n",
       "      <th>pH</th>\n",
       "      <th>sulphates</th>\n",
       "      <th>alcohol</th>\n",
       "      <th>quality</th>\n",
       "      <th>color</th>\n",
       "    </tr>\n",
       "  </thead>\n",
       "  <tbody>\n",
       "    <tr>\n",
       "      <th>0</th>\n",
       "      <td>7.5</td>\n",
       "      <td>0.27</td>\n",
       "      <td>0.34</td>\n",
       "      <td>2.3</td>\n",
       "      <td>0.050</td>\n",
       "      <td>4.0</td>\n",
       "      <td>8.0</td>\n",
       "      <td>0.99510</td>\n",
       "      <td>3.40</td>\n",
       "      <td>0.64</td>\n",
       "      <td>11.0</td>\n",
       "      <td>7</td>\n",
       "      <td>red</td>\n",
       "    </tr>\n",
       "    <tr>\n",
       "      <th>1</th>\n",
       "      <td>6.8</td>\n",
       "      <td>0.62</td>\n",
       "      <td>0.08</td>\n",
       "      <td>1.9</td>\n",
       "      <td>0.068</td>\n",
       "      <td>28.0</td>\n",
       "      <td>38.0</td>\n",
       "      <td>0.99651</td>\n",
       "      <td>3.42</td>\n",
       "      <td>0.82</td>\n",
       "      <td>9.5</td>\n",
       "      <td>6</td>\n",
       "      <td>red</td>\n",
       "    </tr>\n",
       "    <tr>\n",
       "      <th>2</th>\n",
       "      <td>7.8</td>\n",
       "      <td>0.34</td>\n",
       "      <td>0.37</td>\n",
       "      <td>2.0</td>\n",
       "      <td>0.082</td>\n",
       "      <td>24.0</td>\n",
       "      <td>58.0</td>\n",
       "      <td>0.99640</td>\n",
       "      <td>3.34</td>\n",
       "      <td>0.59</td>\n",
       "      <td>9.4</td>\n",
       "      <td>6</td>\n",
       "      <td>red</td>\n",
       "    </tr>\n",
       "    <tr>\n",
       "      <th>3</th>\n",
       "      <td>10.2</td>\n",
       "      <td>0.41</td>\n",
       "      <td>0.43</td>\n",
       "      <td>2.2</td>\n",
       "      <td>0.110</td>\n",
       "      <td>11.0</td>\n",
       "      <td>37.0</td>\n",
       "      <td>0.99728</td>\n",
       "      <td>3.16</td>\n",
       "      <td>0.67</td>\n",
       "      <td>10.8</td>\n",
       "      <td>5</td>\n",
       "      <td>red</td>\n",
       "    </tr>\n",
       "    <tr>\n",
       "      <th>4</th>\n",
       "      <td>8.2</td>\n",
       "      <td>0.38</td>\n",
       "      <td>0.32</td>\n",
       "      <td>2.5</td>\n",
       "      <td>0.080</td>\n",
       "      <td>24.0</td>\n",
       "      <td>71.0</td>\n",
       "      <td>0.99624</td>\n",
       "      <td>3.27</td>\n",
       "      <td>0.85</td>\n",
       "      <td>11.0</td>\n",
       "      <td>6</td>\n",
       "      <td>red</td>\n",
       "    </tr>\n",
       "  </tbody>\n",
       "</table>\n",
       "</div>"
      ],
      "text/plain": [
       "   fixed acidity  volatile acidity  citric acid  residual sugar  chlorides  \\\n",
       "0            7.5              0.27         0.34             2.3      0.050   \n",
       "1            6.8              0.62         0.08             1.9      0.068   \n",
       "2            7.8              0.34         0.37             2.0      0.082   \n",
       "3           10.2              0.41         0.43             2.2      0.110   \n",
       "4            8.2              0.38         0.32             2.5      0.080   \n",
       "\n",
       "   free sulfur dioxide  total sulfur dioxide  density    pH  sulphates  \\\n",
       "0                  4.0                   8.0  0.99510  3.40       0.64   \n",
       "1                 28.0                  38.0  0.99651  3.42       0.82   \n",
       "2                 24.0                  58.0  0.99640  3.34       0.59   \n",
       "3                 11.0                  37.0  0.99728  3.16       0.67   \n",
       "4                 24.0                  71.0  0.99624  3.27       0.85   \n",
       "\n",
       "   alcohol  quality color  \n",
       "0     11.0        7   red  \n",
       "1      9.5        6   red  \n",
       "2      9.4        6   red  \n",
       "3     10.8        5   red  \n",
       "4     11.0        6   red  "
      ]
     },
     "execution_count": 6,
     "metadata": {},
     "output_type": "execute_result"
    }
   ],
   "source": [
    "data.head()"
   ]
  },
  {
   "cell_type": "markdown",
   "metadata": {},
   "source": [
    "**Задача - создать классификатор, который по признакам определял бы белое вино или красное.**\n",
    "\n",
    "Особенность - мало данных - это очень небольшое подмножество известного вам набора данных."
   ]
  },
  {
   "cell_type": "code",
   "execution_count": 7,
   "metadata": {},
   "outputs": [],
   "source": [
    "y=data['color_binary']=data['color'].map({'red': 1, 'white': 0}).values\n",
    "_X=data.drop('color',axis=1)\n",
    "X=_X.drop('color_binary',axis=1)"
   ]
  },
  {
   "cell_type": "code",
   "execution_count": 8,
   "metadata": {},
   "outputs": [],
   "source": [
    "train, test, train_labels, test_labels = train_test_split(X,y,test_size=0.35)"
   ]
  },
  {
   "cell_type": "code",
   "execution_count": 9,
   "metadata": {},
   "outputs": [],
   "source": [
    "gauss = GaussianNB()"
   ]
  },
  {
   "cell_type": "code",
   "execution_count": 16,
   "metadata": {},
   "outputs": [
    {
     "data": {
      "text/plain": [
       "GaussianNB(priors=None)"
      ]
     },
     "execution_count": 16,
     "metadata": {},
     "output_type": "execute_result"
    }
   ],
   "source": [
    "gauss.fit(train, train_labels)"
   ]
  },
  {
   "cell_type": "code",
   "execution_count": 17,
   "metadata": {},
   "outputs": [
    {
     "data": {
      "text/plain": [
       "array([1, 1, 1, 1, 1, 0, 1, 0, 0, 1, 0, 1, 0, 1], dtype=int64)"
      ]
     },
     "execution_count": 17,
     "metadata": {},
     "output_type": "execute_result"
    }
   ],
   "source": [
    "gauss.predict(test)"
   ]
  }
 ],
 "metadata": {
  "kernelspec": {
   "display_name": "Python 3",
   "language": "python",
   "name": "python3"
  },
  "language_info": {
   "codemirror_mode": {
    "name": "ipython",
    "version": 3
   },
   "file_extension": ".py",
   "mimetype": "text/x-python",
   "name": "python",
   "nbconvert_exporter": "python",
   "pygments_lexer": "ipython3",
   "version": "3.6.5"
  }
 },
 "nbformat": 4,
 "nbformat_minor": 1
}
